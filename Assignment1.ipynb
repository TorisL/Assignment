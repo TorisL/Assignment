{
 "cells": [
  {
   "cell_type": "code",
   "execution_count": 5,
   "id": "a72d6e30",
   "metadata": {},
   "outputs": [
    {
     "name": "stdout",
     "output_type": "stream",
     "text": [
      "Enter week1's hours spent on NM_Technologies:2.75\n",
      "Enter week1's hours spent on NM_Coding:3\n",
      "Enter week1's hours spent on NM_Content:2.5\n",
      "Enter week2's hours spent on NM_Technologies:2.5\n",
      "Enter week2's hours spent on NM_Coding:3.25\n",
      "Enter week2's hours spent on NM_Content:2.5\n",
      "Enter week3's hours spent on NM_Technologies:2.75\n",
      "Enter week3's hours spent on NM_Coding:3\n",
      "Enter week3's hours spent on NM_Content:3\n",
      "Enter week4's hours spent on NM_Technologies:3\n",
      "Enter week4's hours spent on NM_Coding:3.25\n",
      "Enter week4's hours spent on NM_Content:2.5\n",
      "[{'week': 'week1', 'NM_Technologies': '2.75', 'NM_Coding': '3', 'NM_Content': '2.5'}, {'week': 'week2', 'NM_Technologies': '2.5', 'NM_Coding': '3.25', 'NM_Content': '2.5'}, {'week': 'week3', 'NM_Technologies': '2.75', 'NM_Coding': '3', 'NM_Content': '3'}, {'week': 'week4', 'NM_Technologies': '3', 'NM_Coding': '3.25', 'NM_Content': '2.5'}]\n"
     ]
    },
    {
     "data": {
      "text/html": [
       "<div>\n",
       "<style scoped>\n",
       "    .dataframe tbody tr th:only-of-type {\n",
       "        vertical-align: middle;\n",
       "    }\n",
       "\n",
       "    .dataframe tbody tr th {\n",
       "        vertical-align: top;\n",
       "    }\n",
       "\n",
       "    .dataframe thead th {\n",
       "        text-align: right;\n",
       "    }\n",
       "</style>\n",
       "<table border=\"1\" class=\"dataframe\">\n",
       "  <thead>\n",
       "    <tr style=\"text-align: right;\">\n",
       "      <th></th>\n",
       "      <th>week</th>\n",
       "      <th>NM_Technologies</th>\n",
       "      <th>NM_Coding</th>\n",
       "      <th>NM_Content</th>\n",
       "    </tr>\n",
       "  </thead>\n",
       "  <tbody>\n",
       "    <tr>\n",
       "      <th>0</th>\n",
       "      <td>week1</td>\n",
       "      <td>2.75</td>\n",
       "      <td>3</td>\n",
       "      <td>2.5</td>\n",
       "    </tr>\n",
       "    <tr>\n",
       "      <th>1</th>\n",
       "      <td>week2</td>\n",
       "      <td>2.5</td>\n",
       "      <td>3.25</td>\n",
       "      <td>2.5</td>\n",
       "    </tr>\n",
       "    <tr>\n",
       "      <th>2</th>\n",
       "      <td>week3</td>\n",
       "      <td>2.75</td>\n",
       "      <td>3</td>\n",
       "      <td>3</td>\n",
       "    </tr>\n",
       "    <tr>\n",
       "      <th>3</th>\n",
       "      <td>week4</td>\n",
       "      <td>3</td>\n",
       "      <td>3.25</td>\n",
       "      <td>2.5</td>\n",
       "    </tr>\n",
       "  </tbody>\n",
       "</table>\n",
       "</div>"
      ],
      "text/plain": [
       "    week NM_Technologies NM_Coding NM_Content\n",
       "0  week1            2.75         3        2.5\n",
       "1  week2             2.5      3.25        2.5\n",
       "2  week3            2.75         3          3\n",
       "3  week4               3      3.25        2.5"
      ]
     },
     "execution_count": 5,
     "metadata": {},
     "output_type": "execute_result"
    }
   ],
   "source": [
    "import pandas as pd\n",
    "Monthly_hours = []\n",
    "week_of_month =['week1','week2','week3','week4']\n",
    "for i in week_of_month:\n",
    "    NM_Technologies = input(\"Enter \" + i + \"'s hours spent on NM_Technologies:\")\n",
    "    NM_Coding = input(\"Enter \" + i + \"'s hours spent on NM_Coding:\")\n",
    "    NM_Content = input(\"Enter \" + i + \"'s hours spent on NM_Content:\")\n",
    "    Monthly_hours.append({'week':i,'NM_Technologies':NM_Technologies,'NM_Coding':NM_Coding,'NM_Content':NM_Content})\n",
    "print(Monthly_hours)\n",
    "df = pd.DataFrame(Monthly_hours)\n",
    "df.to_csv('Monthly_hours.csv',mode='w',index=False)\n",
    "df"
   ]
  },
  {
   "cell_type": "code",
   "execution_count": 18,
   "id": "56ee8bae",
   "metadata": {
    "scrolled": true
   },
   "outputs": [
    {
     "name": "stdout",
     "output_type": "stream",
     "text": [
      "Hours List: \n",
      " [['week1', 2.75, 3.0, 2.5], ['week2', 2.5, 3.25, 2.5], ['week3', 2.75, 3.0, 3.0], ['week4', 3.0, 3.25, 2.5]]\n",
      "NM_Technologies: [2.75, 2.5, 2.75, 3.0] \n",
      "\n",
      "NM_Coding: [3.0, 3.25, 3.0, 3.25] \n",
      "\n",
      "NM_Content: [2.5, 2.5, 3.0, 2.5] \n",
      "\n"
     ]
    },
    {
     "data": {
      "image/png": "[encoded data removed]",
      "text/plain": [
       "<Figure size 432x288 with 1 Axes>"
      ]
     },
     "metadata": {
      "needs_background": "light"
     },
     "output_type": "display_data"
    }
   ],
   "source": [
    "import pandas as pd\n",
    "from matplotlib import pyplot as plt\n",
    "df = pd.read_csv(\"Monthly_hours.csv\")\n",
    "df\n",
    "hours_list = df.values.tolist()\n",
    "print(\"Hours List:\",\"\\n\",hours_list)\n",
    "Week_of_month=[]\n",
    "NM_Technologies=[]\n",
    "NM_Coding=[]\n",
    "NM_Content=[]\n",
    "for i in hours_list:\n",
    "    Week_of_month.append(i[0])\n",
    "    NM_Technologies.append(i[1])\n",
    "    NM_Coding.append(i[2])\n",
    "    NM_Content.append(i[3])\n",
    "print(\"NM_Technologies:\",NM_Technologies,\"\\n\")\n",
    "print(\"NM_Coding:\",NM_Coding,\"\\n\")\n",
    "print(\"NM_Content:\",NM_Content,\"\\n\")\n",
    "plt.plot(Week_of_month, NM_Technologies, color='green',linestyle='--')\n",
    "plt.plot(Week_of_month, NM_Coding, color='pink', marker='p')\n",
    "plt.plot(Week_of_month, NM_Content, color='blue',linestyle='dotted')\n",
    "plt.legend(['NM_Technologies', 'NM_Coding','NM_Content']) \n",
    "plt.xlabel(\"Week_of_month\")\n",
    "plt.ylabel(\"hours\")\n",
    "plt.title('Course hours Comparison')\n",
    "plt.show()"
   ]
  },
  {
   "cell_type": "code",
   "execution_count": 22,
   "id": "e3894813",
   "metadata": {},
   "outputs": [
    {
     "name": "stdout",
     "output_type": "stream",
     "text": [
      "Hours List: \n",
      " [['week1', 2.75, 3.0, 2.5], ['week2', 2.5, 3.25, 2.5], ['week3', 2.75, 3.0, 3.0], ['week4', 3.0, 3.25, 2.5]]\n",
      "NM_Technologies: [2.75, 2.5, 2.75, 3.0] \n",
      "\n",
      "NM_Coding: [3.0, 3.25, 3.0, 3.25] \n",
      "\n",
      "NM_Content: [2.5, 2.5, 3.0, 2.5] \n",
      "\n"
     ]
    }
   ],
   "source": [
    "import pandas as pd\n",
    "from matplotlib import pyplot as plt\n",
    "df = pd.read_csv(\"Monthly_hours.csv\")\n",
    "df\n",
    "hours_list = df.values.tolist()\n",
    "print(\"Hours List:\",\"\\n\",hours_list)\n",
    "Week_of_month=[]\n",
    "NM_Technologies=[]\n",
    "NM_Coding=[]\n",
    "NM_Content=[]\n",
    "for i in hours_list:\n",
    "    Week_of_month.append(i[0])\n",
    "    NM_Technologies.append(i[1])\n",
    "    NM_Coding.append(i[2])\n",
    "    NM_Content.append(i[3])\n",
    "print(\"NM_Technologies:\",NM_Technologies,\"\\n\")\n",
    "print(\"NM_Coding:\",NM_Coding,\"\\n\")\n",
    "print(\"NM_Content:\",NM_Content,\"\\n\")\n"
   ]
  },
  {
   "cell_type": "code",
   "execution_count": 35,
   "id": "88c2f6c6",
   "metadata": {},
   "outputs": [
    {
     "ename": "SyntaxError",
     "evalue": "unexpected EOF while parsing (<ipython-input-35-bfc6d2fa05c3>, line 2)",
     "output_type": "error",
     "traceback": [
      "\u001b[0;36m  File \u001b[0;32m\"<ipython-input-35-bfc6d2fa05c3>\"\u001b[0;36m, line \u001b[0;32m2\u001b[0m\n\u001b[0;31m    Average=np.mean((Hours_list[1:0].astype('float'))\u001b[0m\n\u001b[0m                                                     ^\u001b[0m\n\u001b[0;31mSyntaxError\u001b[0m\u001b[0;31m:\u001b[0m unexpected EOF while parsing\n"
     ]
    }
   ],
   "source": [
    "import numpy as np\n",
    "Average=np.mean((Hours_list[1:0].astype('float'))"
   ]
  },
  {
   "cell_type": "code",
   "execution_count": null,
   "id": "26dad6e0",
   "metadata": {},
   "outputs": [],
   "source": []
  }
 ],
 "metadata": {
  "kernelspec": {
   "display_name": "Python 3",
   "language": "python",
   "name": "python3"
  },
  "language_info": {
   "codemirror_mode": {
    "name": "ipython",
    "version": 3
   },
   "file_extension": ".py",
   "mimetype": "text/x-python",
   "name": "python",
   "nbconvert_exporter": "python",
   "pygments_lexer": "ipython3",
   "version": "3.8.8"
  }
 },
 "nbformat": 4,
 "nbformat_minor": 5
}
